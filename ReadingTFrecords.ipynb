{
 "cells": [
  {
   "cell_type": "code",
   "execution_count": null,
   "metadata": {},
   "outputs": [],
   "source": [
    "reconstructed_images = []\n",
    "\n",
    "record_iterator = tf.python_io.tf_record_iterator(path=\"../Tfdata/mytest.record\")\n",
    "\n",
    "for string_record in record_iterator:\n",
    "    \n",
    "    example = tf.train.Example()\n",
    "        \n",
    "    example.ParseFromString(string_record)\n",
    "            \n",
    "    height = (example.features.feature['image_height'].int64_list.value)\n",
    "    \n",
    "    width = (example.features.feature['image_width'].int64_list.value)\n",
    "    \n",
    "    image_filename = (example.features.feature['image_filename'].bytes_list.value)\n",
    "    \n",
    "    xmin = (example.features.feature['xmin'].float_list.value)\n",
    "    \n",
    "    xmax = (example.features.feature['xmax'].float_list.value)\n",
    "    \n",
    "    ymin = (example.features.feature['ymin'].float_list.value)\n",
    "\n",
    "    ymax = (example.features.feature['ymax'].float_list.value)\n",
    "    \n",
    "    classes = (example.features.feature['classes'].bytes_list.value)\n",
    "    \n",
    "    labels = (example.features.feature['label'].int64_list.value)\n",
    "    \n",
    "    difficult = (example.features.feature['difficult'].int64_list.value)\n",
    "    \n",
    "    truncated = (example.features.feature['truncated'].int64_list.value)\n",
    "\n",
    "    view = (example.features.feature['view'].bytes_list.value)\n",
    "        \n",
    "    img = (example.features.feature['image'].bytes_list.value)\n",
    "        \n",
    "    img_1d = np.fromstring(''.join(img), dtype=np.uint8)\n",
    "    reconstructed_img = img_1d.reshape((height[0], width[0], 3))\n",
    "        \n",
    "    plt.imshow(reconstructed_img,cmap='gray')\n",
    "    plt.show()\n",
    "    "
   ]
  }
 ],
 "metadata": {
  "kernelspec": {
   "display_name": "Python 2",
   "language": "python",
   "name": "python2"
  },
  "language_info": {
   "codemirror_mode": {
    "name": "ipython",
    "version": 2
   },
   "file_extension": ".py",
   "mimetype": "text/x-python",
   "name": "python",
   "nbconvert_exporter": "python",
   "pygments_lexer": "ipython2",
   "version": "2.7.12"
  }
 },
 "nbformat": 4,
 "nbformat_minor": 2
}
