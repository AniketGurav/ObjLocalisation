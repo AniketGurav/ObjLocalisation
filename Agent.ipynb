{
 "cells": [
  {
   "cell_type": "code",
   "execution_count": null,
   "metadata": {},
   "outputs": [],
   "source": [
    "class ObjLocaliser:\n",
    "    def __init__(self, image, boundingBoxes):\n",
    "        \n",
    "        #Loading image using PIL librarry to resize it to standard dimention which is acceptable by the network\n",
    "        PILimg = Image.fromarray(image)\n",
    "        #Resizing the image to be compatible to the network\n",
    "        resized_img = PILimg.resize((224,224))\n",
    "        self.image_playground = np.array(resized_img)\n",
    "        \n",
    "        #Computing the scale of resize to recompute the position of bounding boxes\n",
    "        x_scale = 224./im2.size[0]\n",
    "        y_scale = 224./im2.size[1]\n",
    "        \n",
    "        #Multiplying xmin and xmax of boxes by x_scale and ymax and ymin by y_scale\n",
    "        \n",
    "        #Initializing sliding window from top left corner of the image\n",
    "        self.agent_window = np.array([])\n",
    "        \n",
    "        \n",
    "        \n",
    "        \n",
    "    def wrapping():\n",
    "        \n",
    "        PILimg.thumbnail((224,224), Image.ANTIALIAS)\n",
    "        #If the image original dimentions are smaller than 224 then the image will be padded by zero to expand it to 224\n",
    "        exp_img = np.pad(np.array(PILimg), (((224-PILimg.size[1])/2,(224-PILimg.size[1])/2),((224-PILimg.size[0])/2,(224-PILimg.size[0])/2),(0,0)), 'constant')\n",
    "\n",
    "        self np.pad(self.image, ((10,5),(4,3)), 'constant')"
   ]
  },
  {
   "cell_type": "markdown",
   "metadata": {},
   "source": []
  },
  {
   "cell_type": "code",
   "execution_count": null,
   "metadata": {},
   "outputs": [],
   "source": []
  }
 ],
 "metadata": {
  "kernelspec": {
   "display_name": "Python 2",
   "language": "python",
   "name": "python2"
  },
  "language_info": {
   "codemirror_mode": {
    "name": "ipython",
    "version": 2
   },
   "file_extension": ".py",
   "mimetype": "text/x-python",
   "name": "python",
   "nbconvert_exporter": "python",
   "pygments_lexer": "ipython2",
   "version": "2.7.12"
  }
 },
 "nbformat": 4,
 "nbformat_minor": 2
}
